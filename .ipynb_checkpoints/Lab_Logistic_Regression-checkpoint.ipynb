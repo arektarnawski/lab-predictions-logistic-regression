{
 "cells": [
  {
   "cell_type": "code",
   "execution_count": 81,
   "id": "8fec17e4-4c19-4ac6-ac5a-cf70f7ff55ef",
   "metadata": {},
   "outputs": [],
   "source": [
    "# Lab Logistic Regression - Sakila Movie Rental Database\n",
    "\n",
    "#In order to optimize our inventory, we would like to know which films will be \n",
    "#rented next month and we are asked to create a model to predict it."
   ]
  },
  {
   "cell_type": "code",
   "execution_count": 188,
   "id": "b817f2be-cf35-404d-9ad3-b0d4f928d126",
   "metadata": {},
   "outputs": [
    {
     "name": "stdin",
     "output_type": "stream",
     "text": [
      " ··········\n"
     ]
    }
   ],
   "source": [
    "#1 Create the MySQL connection\n",
    "\n",
    "import pymysql\n",
    "from sqlalchemy import create_engine\n",
    "import pandas as pd\n",
    "import numpy as np\n",
    "import getpass  # To get the password without showing the input\n",
    "password = getpass.getpass()\n",
    "\n",
    "connection_string = 'mysql+pymysql://root:' + password + '@localhost/bank'\n",
    "engine = create_engine(connection_string)"
   ]
  },
  {
   "cell_type": "code",
   "execution_count": 202,
   "id": "25aa019d-8134-45c2-9d51-56946a547260",
   "metadata": {},
   "outputs": [
    {
     "data": {
      "text/html": [
       "<div>\n",
       "<style scoped>\n",
       "    .dataframe tbody tr th:only-of-type {\n",
       "        vertical-align: middle;\n",
       "    }\n",
       "\n",
       "    .dataframe tbody tr th {\n",
       "        vertical-align: top;\n",
       "    }\n",
       "\n",
       "    .dataframe thead th {\n",
       "        text-align: right;\n",
       "    }\n",
       "</style>\n",
       "<table border=\"1\" class=\"dataframe\">\n",
       "  <thead>\n",
       "    <tr style=\"text-align: right;\">\n",
       "      <th></th>\n",
       "      <th>title</th>\n",
       "      <th>release_year</th>\n",
       "      <th>lang</th>\n",
       "      <th>rental_rate</th>\n",
       "      <th>length</th>\n",
       "      <th>rating</th>\n",
       "      <th>special_features</th>\n",
       "      <th>times_rented_before_aug</th>\n",
       "      <th>rented_in_aug</th>\n",
       "      <th>genre</th>\n",
       "    </tr>\n",
       "  </thead>\n",
       "  <tbody>\n",
       "    <tr>\n",
       "      <th>0</th>\n",
       "      <td>ACADEMY DINOSAUR</td>\n",
       "      <td>2006</td>\n",
       "      <td>English</td>\n",
       "      <td>0.99</td>\n",
       "      <td>86</td>\n",
       "      <td>PG</td>\n",
       "      <td>Deleted Scenes,Behind the Scenes</td>\n",
       "      <td>14.0</td>\n",
       "      <td>Yes</td>\n",
       "      <td>Documentary</td>\n",
       "    </tr>\n",
       "    <tr>\n",
       "      <th>1</th>\n",
       "      <td>ACE GOLDFINGER</td>\n",
       "      <td>2006</td>\n",
       "      <td>English</td>\n",
       "      <td>4.99</td>\n",
       "      <td>48</td>\n",
       "      <td>G</td>\n",
       "      <td>Trailers,Deleted Scenes</td>\n",
       "      <td>2.0</td>\n",
       "      <td>Yes</td>\n",
       "      <td>Horror</td>\n",
       "    </tr>\n",
       "    <tr>\n",
       "      <th>2</th>\n",
       "      <td>ADAPTATION HOLES</td>\n",
       "      <td>2006</td>\n",
       "      <td>English</td>\n",
       "      <td>2.99</td>\n",
       "      <td>50</td>\n",
       "      <td>NC-17</td>\n",
       "      <td>Trailers,Deleted Scenes</td>\n",
       "      <td>6.0</td>\n",
       "      <td>Yes</td>\n",
       "      <td>Documentary</td>\n",
       "    </tr>\n",
       "    <tr>\n",
       "      <th>3</th>\n",
       "      <td>AFFAIR PREJUDICE</td>\n",
       "      <td>2006</td>\n",
       "      <td>English</td>\n",
       "      <td>2.99</td>\n",
       "      <td>117</td>\n",
       "      <td>G</td>\n",
       "      <td>Commentaries,Behind the Scenes</td>\n",
       "      <td>16.0</td>\n",
       "      <td>Yes</td>\n",
       "      <td>Horror</td>\n",
       "    </tr>\n",
       "    <tr>\n",
       "      <th>4</th>\n",
       "      <td>AFRICAN EGG</td>\n",
       "      <td>2006</td>\n",
       "      <td>English</td>\n",
       "      <td>2.99</td>\n",
       "      <td>130</td>\n",
       "      <td>G</td>\n",
       "      <td>Deleted Scenes</td>\n",
       "      <td>8.0</td>\n",
       "      <td>Yes</td>\n",
       "      <td>Family</td>\n",
       "    </tr>\n",
       "  </tbody>\n",
       "</table>\n",
       "</div>"
      ],
      "text/plain": [
       "              title  release_year     lang  rental_rate  length rating  \\\n",
       "0  ACADEMY DINOSAUR          2006  English         0.99      86     PG   \n",
       "1    ACE GOLDFINGER          2006  English         4.99      48      G   \n",
       "2  ADAPTATION HOLES          2006  English         2.99      50  NC-17   \n",
       "3  AFFAIR PREJUDICE          2006  English         2.99     117      G   \n",
       "4       AFRICAN EGG          2006  English         2.99     130      G   \n",
       "\n",
       "                   special_features  times_rented_before_aug rented_in_aug  \\\n",
       "0  Deleted Scenes,Behind the Scenes                     14.0           Yes   \n",
       "1           Trailers,Deleted Scenes                      2.0           Yes   \n",
       "2           Trailers,Deleted Scenes                      6.0           Yes   \n",
       "3    Commentaries,Behind the Scenes                     16.0           Yes   \n",
       "4                    Deleted Scenes                      8.0           Yes   \n",
       "\n",
       "         genre  \n",
       "0  Documentary  \n",
       "1       Horror  \n",
       "2  Documentary  \n",
       "3       Horror  \n",
       "4       Family  "
      ]
     },
     "execution_count": 202,
     "metadata": {},
     "output_type": "execute_result"
    }
   ],
   "source": [
    "#2 Define data query - using a view created in MySQL \n",
    "# (it's annoying that queries created in Workbench do not work out of the box in Python...)\n",
    "\n",
    "query = '''\n",
    "SELECT * FROM sakila.sakila_logistic\n",
    "'''\n",
    "data = pd.read_sql_query(query, engine)\n",
    "data.head()"
   ]
  },
  {
   "cell_type": "code",
   "execution_count": 190,
   "id": "62c4330d-f5f3-4886-b170-dc94eff77738",
   "metadata": {},
   "outputs": [
    {
     "data": {
      "text/plain": [
       "Sports         74\n",
       "Foreign        73\n",
       "Family         69\n",
       "Documentary    68\n",
       "Animation      66\n",
       "Action         64\n",
       "New            63\n",
       "Drama          62\n",
       "Sci-Fi         61\n",
       "Games          61\n",
       "Children       60\n",
       "Comedy         58\n",
       "Travel         57\n",
       "Classics       57\n",
       "Horror         56\n",
       "Music          51\n",
       "Name: genre, dtype: int64"
      ]
     },
     "execution_count": 190,
     "metadata": {},
     "output_type": "execute_result"
    }
   ],
   "source": [
    "#3 Reviewing data\n",
    "\n",
    "data.shape # 1000 rows, 10 columns\n",
    "data.dtypes # all types look correct, 4 numerical, 6 categorical (5 excl. film title)\n",
    "data.isna().sum() # 42 NaNs in times_rented_before_aug and rented_in_aug\n",
    "data['title'].value_counts() # obviously 1000 distinct names, will be dropped for the sake of the model but included back in testing\n",
    "data['release_year'].value_counts() # all movies are released in 2006, can be dropped\n",
    "data['lang'].value_counts() # all movies are in English, can be dropped\n",
    "data['rental_rate'].value_counts() # just three rates, keep in the model\n",
    "data['length'].value_counts() # variaes, keep in model\n",
    "data['rating'].value_counts() # 5 values, can stay in the model for now\n",
    "data['special_features'].value_counts() # quite evently distributed but may not be included in the first model run\n",
    "data['times_rented_before_aug'].value_counts() # multiple values, keep for now\n",
    "data['rented_in_aug'].value_counts() # 958 'Yes', need to fill the remaining 42 with 'No'\n",
    "data['genre'].value_counts()"
   ]
  },
  {
   "cell_type": "code",
   "execution_count": 203,
   "id": "0ca9f14b-6c90-41f2-8321-e31ac3c4ca04",
   "metadata": {},
   "outputs": [],
   "source": [
    "#4 Wrangling data\n",
    "\n",
    "# Replacing NaNs\n",
    "data['times_rented_before_aug'] = data['times_rented_before_aug'].replace(np.nan, 0)\n",
    "data['rented_in_aug'] = data['rented_in_aug'].replace(np.nan, 'No')\n",
    "\n",
    "# Saving the dropped columns to a backup df\n",
    "dropped = data[['title','release_year','lang','special_features']]\n",
    "\n",
    "# Dropping these columns from main dataframe\n",
    "data = data.drop(['title','release_year','lang','special_features'], axis = 1)"
   ]
  },
  {
   "cell_type": "code",
   "execution_count": 138,
   "id": "f7ea9ea4-b7b3-4d2b-b87d-41dd5d484d25",
   "metadata": {},
   "outputs": [
    {
     "data": {
      "image/png": "[encoded data removed]",
      "text/plain": [
       "<Figure size 720x576 with 2 Axes>"
      ]
     },
     "metadata": {
      "needs_background": "light"
     },
     "output_type": "display_data"
    },
    {
     "data": {
      "image/png": "[encoded data removed]",
      "text/plain": [
       "<Figure size 360x360 with 1 Axes>"
      ]
     },
     "metadata": {
      "needs_background": "light"
     },
     "output_type": "display_data"
    },
    {
     "data": {
      "image/png": "[encoded data removed]",
      "text/plain": [
       "<Figure size 360x360 with 1 Axes>"
      ]
     },
     "metadata": {
      "needs_background": "light"
     },
     "output_type": "display_data"
    },
    {
     "data": {
      "image/png": "[encoded data removed]",
      "text/plain": [
       "<Figure size 360x360 with 1 Axes>"
      ]
     },
     "metadata": {
      "needs_background": "light"
     },
     "output_type": "display_data"
    }
   ],
   "source": [
    "#5 Checking multicolinearity and distributions of numericals\n",
    "\n",
    "import seaborn as sns\n",
    "import matplotlib.pyplot as plt\n",
    "\n",
    "corr_matrix=data.corr()\n",
    "fig, ax = plt.subplots(figsize=(10, 8))\n",
    "ax = sns.heatmap(corr_matrix, annot=True)\n",
    "plt.show() # Numericals not correlated, sweet\n",
    "\n",
    "sns.displot(data['rental_rate'])\n",
    "plt.show()\n",
    "sns.displot(data['length'])\n",
    "plt.show()\n",
    "sns.displot(data['times_rented_before_aug'])\n",
    "plt.show() # different thresholds, need to standardize"
   ]
  },
  {
   "cell_type": "code",
   "execution_count": 87,
   "id": "5b55a5f4-bc4a-49cf-9190-94949db2b042",
   "metadata": {},
   "outputs": [],
   "source": [
    "#7 Defining y and X\n",
    "\n",
    "y = data['rented_in_aug']\n",
    "X = data.drop('rented_in_aug', axis = 1)"
   ]
  },
  {
   "cell_type": "code",
   "execution_count": 88,
   "id": "068eb63c-26f6-427f-ada1-c31643ce4e66",
   "metadata": {},
   "outputs": [],
   "source": [
    "#8 Splitting the train and test data before transformations\n",
    "\n",
    "from sklearn.model_selection import train_test_split\n",
    "\n",
    "X_train, X_test, y_train, y_test = train_test_split(X, y, test_size=0.2, random_state=31337)"
   ]
  },
  {
   "cell_type": "code",
   "execution_count": 89,
   "id": "5d525de3-f0e1-4a1b-b8fd-b04f8735d042",
   "metadata": {},
   "outputs": [],
   "source": [
    "#9 Standardizing the numericals using MinMaxScaler\n",
    "\n",
    "from sklearn.preprocessing import MinMaxScaler\n",
    "\n",
    "X_train_num = X_train.select_dtypes(include = np.number)\n",
    "\n",
    "transformer = MinMaxScaler().fit(X_train_num)\n",
    "X_normalized = transformer.transform(X_train_num)\n",
    "X_train_norm = pd.DataFrame(X_normalized, columns = X_train_num.columns)"
   ]
  },
  {
   "cell_type": "code",
   "execution_count": 90,
   "id": "a696eb2a-2575-442c-a3d7-935c97294e52",
   "metadata": {},
   "outputs": [],
   "source": [
    "#10 Encoding categoricals\n",
    "\n",
    "X_train_categorical = X_train.select_dtypes(include = object)\n",
    "X_train_cat = pd.get_dummies(X_train_categorical,\n",
    "                            columns = ['rating', 'genre'],\n",
    "                            drop_first = True)"
   ]
  },
  {
   "cell_type": "code",
   "execution_count": 91,
   "id": "ba94c166-d6b5-402f-bb21-986d379da056",
   "metadata": {},
   "outputs": [],
   "source": [
    "#11 Building final X and y for model training\n",
    "\n",
    "y_train\n",
    "X_train_transformed = np.concatenate((X_train_norm, X_train_cat), axis=1)"
   ]
  },
  {
   "cell_type": "code",
   "execution_count": 92,
   "id": "4417cc47-6ebd-4316-b05a-47e3dbba423a",
   "metadata": {},
   "outputs": [],
   "source": [
    "#12a Creating a logistic regression model (lbfgs)\n",
    "\n",
    "from sklearn.linear_model import LogisticRegression\n",
    "\n",
    "model_a = LogisticRegression(random_state=0, solver='lbfgs',\n",
    "                  multi_class='multinomial').fit(X_train_transformed, y_train)"
   ]
  },
  {
   "cell_type": "code",
   "execution_count": 93,
   "id": "bd74936d-bbcf-4f3e-8c53-3024f0c44872",
   "metadata": {},
   "outputs": [],
   "source": [
    "#12b Creating a logistic regression model (saga), will see which is better later\n",
    "\n",
    "model_b = LogisticRegression(random_state=0, solver='saga',\n",
    "                  multi_class='multinomial').fit(X_train_transformed, y_train)"
   ]
  },
  {
   "cell_type": "code",
   "execution_count": 94,
   "id": "32e9f42b-8916-40ba-bdac-319f310a434b",
   "metadata": {},
   "outputs": [],
   "source": [
    "#13 Scaling and encoding test data to run the predictions\n",
    "\n",
    "X_test_num = X_test.select_dtypes(include = np.number)\n",
    "\n",
    "X_normalized = transformer.transform(X_test_num)\n",
    "X_test_norm = pd.DataFrame(X_normalized, columns = X_test_num.columns)\n",
    "\n",
    "X_test_categorical = X_test.select_dtypes(include = object)\n",
    "X_test_cat = pd.get_dummies(X_test_categorical,\n",
    "                            columns = ['rating', 'genre'],\n",
    "                            drop_first = True)"
   ]
  },
  {
   "cell_type": "code",
   "execution_count": 95,
   "id": "25fe282b-828f-43c9-961c-ff19125e6799",
   "metadata": {},
   "outputs": [
    {
     "data": {
      "text/plain": [
       "[('rating_NC-17', 'rating_NC-17'),\n",
       " ('rating_PG', 'rating_PG'),\n",
       " ('rating_PG-13', 'rating_PG-13'),\n",
       " ('rating_R', 'rating_R'),\n",
       " ('genre_Animation', 'genre_Animation'),\n",
       " ('genre_Children', 'genre_Children'),\n",
       " ('genre_Classics', 'genre_Classics'),\n",
       " ('genre_Comedy', 'genre_Comedy'),\n",
       " ('genre_Documentary', 'genre_Documentary'),\n",
       " ('genre_Drama', 'genre_Drama'),\n",
       " ('genre_Family', 'genre_Family'),\n",
       " ('genre_Foreign', 'genre_Foreign'),\n",
       " ('genre_Games', 'genre_Games'),\n",
       " ('genre_Horror', 'genre_Horror'),\n",
       " ('genre_Music', 'genre_Music'),\n",
       " ('genre_New', 'genre_New'),\n",
       " ('genre_Sci-Fi', 'genre_Sci-Fi'),\n",
       " ('genre_Sports', 'genre_Sports'),\n",
       " ('genre_Travel', 'genre_Travel')]"
      ]
     },
     "metadata": {},
     "output_type": "display_data"
    }
   ],
   "source": [
    "#14 Checking if test data columns are the same as train data\n",
    "\n",
    "display(list(zip(list(X_train_cat.columns),list(X_test_cat.columns)))) "
   ]
  },
  {
   "cell_type": "code",
   "execution_count": 96,
   "id": "65d73066-02d1-414a-bed0-4493d6f3a617",
   "metadata": {},
   "outputs": [],
   "source": [
    "#15 Building final X for model training\n",
    "\n",
    "X_test_transformed = np.concatenate((X_test_norm, X_test_cat), axis=1)"
   ]
  },
  {
   "cell_type": "code",
   "execution_count": 97,
   "id": "45624252-4b74-458a-a686-2f11252d03cd",
   "metadata": {},
   "outputs": [
    {
     "data": {
      "text/plain": [
       "0.97"
      ]
     },
     "metadata": {},
     "output_type": "display_data"
    },
    {
     "data": {
      "text/plain": [
       "0.97"
      ]
     },
     "metadata": {},
     "output_type": "display_data"
    }
   ],
   "source": [
    "#16 Making predictions using the models and test data\n",
    "\n",
    "pred_model_a = model_a.predict(X_test_transformed)\n",
    "display(model_a.score(X_test_transformed, y_test))\n",
    "\n",
    "pred_model_b = model_b.predict(X_test_transformed)\n",
    "display(model_b.score(X_test_transformed, y_test))\n",
    "\n",
    "# Both models return a score of 0.97"
   ]
  },
  {
   "cell_type": "code",
   "execution_count": 98,
   "id": "0f9f8e73-1e8b-4cfd-8cf1-dfc53acc841e",
   "metadata": {},
   "outputs": [
    {
     "data": {
      "text/plain": [
       "array([[  0,   6],\n",
       "       [  0, 194]])"
      ]
     },
     "metadata": {},
     "output_type": "display_data"
    },
    {
     "data": {
      "text/plain": [
       "array([[  0,   6],\n",
       "       [  0, 194]])"
      ]
     },
     "metadata": {},
     "output_type": "display_data"
    }
   ],
   "source": [
    "#17 Checking confusion matrix\n",
    "\n",
    "# predicted | No | Yes |\n",
    "# ----------------------\n",
    "# actual  No | + |     |  \n",
    "# ----------------------\n",
    "#        Yes |   |  +  |   \n",
    "\n",
    "from sklearn.metrics import confusion_matrix\n",
    "\n",
    "display(confusion_matrix(y_test, pred_model_a))\n",
    "display(confusion_matrix(y_test, pred_model_b))\n",
    "\n",
    "# same stats for both models - all of the Yes's guessed correctly (no wonder...) but 6\n",
    "# values that should be a 'No' were actually guessed as 'Yes'"
   ]
  },
  {
   "cell_type": "code",
   "execution_count": 127,
   "id": "91451c16-16d7-40a6-8d9f-aa8f7f744c85",
   "metadata": {},
   "outputs": [
    {
     "data": {
      "text/plain": [
       "array([[  0,   6],\n",
       "       [ 15, 179]])"
      ]
     },
     "metadata": {},
     "output_type": "display_data"
    }
   ],
   "source": [
    "#18 Trying the 'Neighbors' model\n",
    "\n",
    "from sklearn import neighbors\n",
    "\n",
    "model_c = neighbors.KNeighborsClassifier(n_neighbors=2, weights='uniform', algorithm='brute')\n",
    "model_c.fit(X_train_transformed, y_train)\n",
    "pred_model_c = model_c.predict(X_test_transformed) # score is also 0.97\n",
    "\n",
    "display(confusion_matrix(y_test, pred_model_c)) # getting same results as above..."
   ]
  },
  {
   "cell_type": "code",
   "execution_count": 100,
   "id": "c456b27f-e4c8-43da-a5dc-e11239f62c6c",
   "metadata": {},
   "outputs": [],
   "source": [
    "#19 Conclusions\n",
    "\n",
    "#The model predicts that essentially all plugged movies will be rented out, \n",
    "# while in reality 6 o them were not.\n",
    "#This is due to the fact that there is a huge imbalance in the data \n",
    "#(96% of all movies available were rented in August)\n",
    "\n",
    "#There is no noticeable differnce between three models tested (lbfgs, saga, neighbors)"
   ]
  },
  {
   "cell_type": "code",
   "execution_count": 285,
   "id": "e89d9ff9-dc84-4578-aa15-066a05dc97e8",
   "metadata": {},
   "outputs": [
    {
     "data": {
      "text/html": [
       "<div>\n",
       "<style scoped>\n",
       "    .dataframe tbody tr th:only-of-type {\n",
       "        vertical-align: middle;\n",
       "    }\n",
       "\n",
       "    .dataframe tbody tr th {\n",
       "        vertical-align: top;\n",
       "    }\n",
       "\n",
       "    .dataframe thead th {\n",
       "        text-align: right;\n",
       "    }\n",
       "</style>\n",
       "<table border=\"1\" class=\"dataframe\">\n",
       "  <thead>\n",
       "    <tr style=\"text-align: right;\">\n",
       "      <th></th>\n",
       "      <th>title</th>\n",
       "      <th>release_year</th>\n",
       "      <th>lang</th>\n",
       "      <th>rental_rate</th>\n",
       "      <th>length</th>\n",
       "      <th>rating</th>\n",
       "      <th>special_features</th>\n",
       "      <th>times_rented_before_aug</th>\n",
       "      <th>rented_in_aug</th>\n",
       "      <th>genre</th>\n",
       "    </tr>\n",
       "  </thead>\n",
       "  <tbody>\n",
       "    <tr>\n",
       "      <th>0</th>\n",
       "      <td>ACADEMY DINOSAUR</td>\n",
       "      <td>2006</td>\n",
       "      <td>English</td>\n",
       "      <td>0.99</td>\n",
       "      <td>86</td>\n",
       "      <td>PG</td>\n",
       "      <td>Deleted Scenes,Behind the Scenes</td>\n",
       "      <td>14.0</td>\n",
       "      <td>Yes</td>\n",
       "      <td>Documentary</td>\n",
       "    </tr>\n",
       "    <tr>\n",
       "      <th>1</th>\n",
       "      <td>ACE GOLDFINGER</td>\n",
       "      <td>2006</td>\n",
       "      <td>English</td>\n",
       "      <td>4.99</td>\n",
       "      <td>48</td>\n",
       "      <td>G</td>\n",
       "      <td>Trailers,Deleted Scenes</td>\n",
       "      <td>2.0</td>\n",
       "      <td>Yes</td>\n",
       "      <td>Horror</td>\n",
       "    </tr>\n",
       "    <tr>\n",
       "      <th>2</th>\n",
       "      <td>ADAPTATION HOLES</td>\n",
       "      <td>2006</td>\n",
       "      <td>English</td>\n",
       "      <td>2.99</td>\n",
       "      <td>50</td>\n",
       "      <td>NC-17</td>\n",
       "      <td>Trailers,Deleted Scenes</td>\n",
       "      <td>6.0</td>\n",
       "      <td>Yes</td>\n",
       "      <td>Documentary</td>\n",
       "    </tr>\n",
       "    <tr>\n",
       "      <th>3</th>\n",
       "      <td>AFFAIR PREJUDICE</td>\n",
       "      <td>2006</td>\n",
       "      <td>English</td>\n",
       "      <td>2.99</td>\n",
       "      <td>117</td>\n",
       "      <td>G</td>\n",
       "      <td>Commentaries,Behind the Scenes</td>\n",
       "      <td>16.0</td>\n",
       "      <td>Yes</td>\n",
       "      <td>Horror</td>\n",
       "    </tr>\n",
       "    <tr>\n",
       "      <th>4</th>\n",
       "      <td>AFRICAN EGG</td>\n",
       "      <td>2006</td>\n",
       "      <td>English</td>\n",
       "      <td>2.99</td>\n",
       "      <td>130</td>\n",
       "      <td>G</td>\n",
       "      <td>Deleted Scenes</td>\n",
       "      <td>8.0</td>\n",
       "      <td>Yes</td>\n",
       "      <td>Family</td>\n",
       "    </tr>\n",
       "  </tbody>\n",
       "</table>\n",
       "</div>"
      ],
      "text/plain": [
       "              title  release_year     lang  rental_rate  length rating  \\\n",
       "0  ACADEMY DINOSAUR          2006  English         0.99      86     PG   \n",
       "1    ACE GOLDFINGER          2006  English         4.99      48      G   \n",
       "2  ADAPTATION HOLES          2006  English         2.99      50  NC-17   \n",
       "3  AFFAIR PREJUDICE          2006  English         2.99     117      G   \n",
       "4       AFRICAN EGG          2006  English         2.99     130      G   \n",
       "\n",
       "                   special_features  times_rented_before_aug rented_in_aug  \\\n",
       "0  Deleted Scenes,Behind the Scenes                     14.0           Yes   \n",
       "1           Trailers,Deleted Scenes                      2.0           Yes   \n",
       "2           Trailers,Deleted Scenes                      6.0           Yes   \n",
       "3    Commentaries,Behind the Scenes                     16.0           Yes   \n",
       "4                    Deleted Scenes                      8.0           Yes   \n",
       "\n",
       "         genre  \n",
       "0  Documentary  \n",
       "1       Horror  \n",
       "2  Documentary  \n",
       "3       Horror  \n",
       "4       Family  "
      ]
     },
     "execution_count": 285,
     "metadata": {},
     "output_type": "execute_result"
    }
   ],
   "source": [
    "#20 [5/11 Update] Ok, let's apply these imbalanced data methods we learnt today\n",
    "\n",
    "query = '''\n",
    "SELECT * FROM sakila.sakila_logistic\n",
    "'''\n",
    "data = pd.read_sql_query(query, engine)\n",
    "data.head()"
   ]
  },
  {
   "cell_type": "code",
   "execution_count": 286,
   "id": "a4e8e27d-f933-43fa-8d7d-dcc5e02302e4",
   "metadata": {},
   "outputs": [
    {
     "data": {
      "text/plain": [
       "1    958\n",
       "0     42\n",
       "Name: rented_in_aug, dtype: int64"
      ]
     },
     "execution_count": 286,
     "metadata": {},
     "output_type": "execute_result"
    }
   ],
   "source": [
    "# Wrangling\n",
    "\n",
    "# Replacing NaNs\n",
    "data['times_rented_before_aug'] = data['times_rented_before_aug'].replace(np.nan, 0)\n",
    "data['rented_in_aug'] = data['rented_in_aug'].replace(np.nan, 'No')\n",
    "\n",
    "# Saving the dropped columns to a backup df\n",
    "dropped = data[['title','release_year','lang','special_features']]\n",
    "\n",
    "# Dropping these columns from main dataframe\n",
    "data = data.drop(['title','release_year','lang','special_features'], axis = 1)\n",
    "\n",
    "# Switching from Yes/No to 0/1\n",
    "data['rented_in_aug'] = data['rented_in_aug'].apply(lambda x: 1 if x == 'Yes' else 0) # decided to convert to 0 and 1 to see heatmap\n",
    "data['rented_in_aug'].value_counts()"
   ]
  },
  {
   "cell_type": "code",
   "execution_count": 287,
   "id": "cdbb9a8f-f58d-4f05-b200-223b5ce8d6ab",
   "metadata": {},
   "outputs": [],
   "source": [
    "# Defining X and y\n",
    "\n",
    "X = data.drop('rented_in_aug', axis = 1)\n",
    "y = data['rented_in_aug']"
   ]
  },
  {
   "cell_type": "code",
   "execution_count": 219,
   "id": "620fe855-e2b2-4164-b82f-bf39a7e41599",
   "metadata": {},
   "outputs": [
    {
     "data": {
      "image/png": "[encoded data removed]",
      "text/plain": [
       "<Figure size 720x576 with 2 Axes>"
      ]
     },
     "metadata": {
      "needs_background": "light"
     },
     "output_type": "display_data"
    }
   ],
   "source": [
    "corr_matrix=data.corr()\n",
    "fig, ax = plt.subplots(figsize=(10, 8))\n",
    "ax = sns.heatmap(corr_matrix, annot=True)"
   ]
  },
  {
   "cell_type": "code",
   "execution_count": 230,
   "id": "0d1ed1b8-67ec-4195-8311-f277fb4e56c6",
   "metadata": {},
   "outputs": [],
   "source": [
    "# New Test/Train\n",
    "X_train, X_test, y_train, y_test = train_test_split(X, y, test_size=0.2, random_state=31337)"
   ]
  },
  {
   "cell_type": "code",
   "execution_count": 237,
   "id": "f939c94d-a754-4005-823a-a79976e21a82",
   "metadata": {},
   "outputs": [],
   "source": [
    "# Scaling both train and test\n",
    "\n",
    "from sklearn.preprocessing import StandardScaler\n",
    "\n",
    "X_train_num = X_train.select_dtypes(include = np.number)\n",
    "X_test_num = X_test.select_dtypes(include = np.number)\n",
    "\n",
    "transformer = StandardScaler().fit(X_train_num)\n",
    "X_train_num_scaled = pd.DataFrame(transformer.transform(X_train_num),columns=X_train_num.columns)\n",
    "X_test_num_scaled = pd.DataFrame(transformer.transform(X_test_num),columns=X_test_num.columns)"
   ]
  },
  {
   "cell_type": "code",
   "execution_count": 244,
   "id": "4c588462-b260-47a6-9cd3-b37edf87195f",
   "metadata": {},
   "outputs": [],
   "source": [
    "# Encoding categoricals\n",
    "\n",
    "X_train_categorical = X_train.select_dtypes(include = object)\n",
    "X_train_cat = pd.get_dummies(X_train_categorical,\n",
    "                            columns = ['rating', 'genre'],\n",
    "                            drop_first = True)\n",
    "\n",
    "X_test_categorical = X_test.select_dtypes(include = object)\n",
    "X_test_cat = pd.get_dummies(X_test_categorical,\n",
    "                            columns = ['rating', 'genre'],\n",
    "                            drop_first = True)\n",
    "\n",
    "# Resetting cat's indexes for concat to work\n",
    "X_train_cat = X_train_cat.reset_index(drop=True) \n",
    "X_test_cat = X_test_cat.reset_index(drop=True) \n"
   ]
  },
  {
   "cell_type": "code",
   "execution_count": 247,
   "id": "ac213c66-48df-410f-8bde-3194fbe69a9e",
   "metadata": {},
   "outputs": [],
   "source": [
    "# Building final X_train and X_test\n",
    "\n",
    "X_train_transformed = pd.concat((X_train_norm, X_train_cat), axis=1)\n",
    "X_test_transformed = pd.concat((X_test_norm, X_test_cat), axis=1)"
   ]
  },
  {
   "cell_type": "code",
   "execution_count": 250,
   "id": "06c2fd52-4371-4201-a99f-d43fe8d1e138",
   "metadata": {},
   "outputs": [],
   "source": [
    "# Resetting y's indexes for concat to work\n",
    "y_train = y_train.reset_index(drop=True) \n",
    "y_test = y_test.reset_index(drop=True) "
   ]
  },
  {
   "cell_type": "code",
   "execution_count": 272,
   "id": "340d64e6-2242-4a2e-b063-319d69a2dd8c",
   "metadata": {
    "jupyter": {
     "source_hidden": true
    },
    "tags": []
   },
   "outputs": [
    {
     "data": {
      "text/plain": [
       "0.925"
      ]
     },
     "metadata": {},
     "output_type": "display_data"
    },
    {
     "name": "stdout",
     "output_type": "stream",
     "text": [
      "precision:  1.0\n",
      "recall:  0.9226804123711341\n",
      "f1:  0.9597855227882037\n"
     ]
    },
    {
     "data": {
      "text/plain": [
       "array([[  6,   0],\n",
       "       [ 15, 179]])"
      ]
     },
     "metadata": {},
     "output_type": "display_data"
    }
   ],
   "source": [
    "# Applying standard logistic regression\n",
    "\n",
    "train = pd.concat([X_train_transformed, y_train],axis=1)\n",
    "\n",
    "from sklearn.utils import resample\n",
    "\n",
    "no_rent = train[train['rented_in_aug']==0]\n",
    "yes_rent = train[train['rented_in_aug']==1]\n",
    "\n",
    "yes_rent_undersampled = resample(yes_rent,\n",
    "                                    replace=False, \n",
    "                                    n_samples = len(yes_rent)-int((len(yes_rent)-len(no_rent))/2),\n",
    "                                    random_state=2)\n",
    "\n",
    "no_rent_oversampled = resample(no_rent,\n",
    "                                    replace=True,\n",
    "                                    n_samples = len(no_rent)+int((len(yes_rent)-len(no_rent))/2),\n",
    "                                    random_state=2)\n",
    "\n",
    "train_underover = pd.concat([yes_rent_undersampled,no_rent_oversampled])\n",
    "\n",
    "y = train_underover['rented_in_aug']\n",
    "X = train_underover.drop('rented_in_aug',axis = 1)\n",
    "\n",
    "LR = LogisticRegression(max_iter=100)\n",
    "LR.fit(X, y)\n",
    "pred = LR.predict(X_test_transformed)\n",
    "\n",
    "from sklearn.metrics import precision_score\n",
    "from sklearn.metrics import recall_score\n",
    "from sklearn.metrics import f1_score\n",
    "from sklearn.metrics import confusion_matrix\n",
    "\n",
    "display(LR.score(X_test_transformed, y_test))\n",
    "print(\"precision: \",precision_score(y_test,pred))\n",
    "print(\"recall: \",recall_score(y_test,pred))\n",
    "print(\"f1: \",f1_score(y_test,pred))\n",
    "\n",
    "display(confusion_matrix(y_test,pred))\n"
   ]
  },
  {
   "cell_type": "code",
   "execution_count": 377,
   "id": "29be41fe-5626-4cc3-8059-2977b12e0b6a",
   "metadata": {},
   "outputs": [
    {
     "data": {
      "text/plain": [
       "0.96"
      ]
     },
     "metadata": {},
     "output_type": "display_data"
    },
    {
     "name": "stdout",
     "output_type": "stream",
     "text": [
      "precision:  1.0\n",
      "recall:  0.9587628865979382\n",
      "f1:  0.9789473684210526\n"
     ]
    },
    {
     "data": {
      "text/plain": [
       "array([[  6,   0],\n",
       "       [  8, 186]])"
      ]
     },
     "execution_count": 377,
     "metadata": {},
     "output_type": "execute_result"
    }
   ],
   "source": [
    "# Applying SMOTE\n",
    "\n",
    "from imblearn.over_sampling import SMOTE\n",
    "\n",
    "sm = SMOTE(random_state=100,k_neighbors=6)\n",
    "X_train_SMOTE,y_train_SMOTE = sm.fit_resample(X_train_transformed,y_train)\n",
    "\n",
    "LR = LogisticRegression(max_iter=1000)\n",
    "LR.fit(X_train_SMOTE, y_train_SMOTE)\n",
    "display(LR.score(X_test_transformed, y_test))\n",
    "pred = LR.predict(X_test_transformed)\n",
    "\n",
    "print(\"precision: \",precision_score(y_test,pred))\n",
    "print(\"recall: \",recall_score(y_test,pred))\n",
    "print(\"f1: \",f1_score(y_test,pred))\n",
    "\n",
    "confusion_matrix(y_test,pred)\n",
    "\n",
    "# Very happy with the result, all not rented movies properly predicted"
   ]
  },
  {
   "cell_type": "code",
   "execution_count": 380,
   "id": "30802302-67a0-4ba3-9940-07858ac98d3e",
   "metadata": {},
   "outputs": [
    {
     "data": {
      "text/html": [
       "<div>\n",
       "<style scoped>\n",
       "    .dataframe tbody tr th:only-of-type {\n",
       "        vertical-align: middle;\n",
       "    }\n",
       "\n",
       "    .dataframe tbody tr th {\n",
       "        vertical-align: top;\n",
       "    }\n",
       "\n",
       "    .dataframe thead th {\n",
       "        text-align: right;\n",
       "    }\n",
       "</style>\n",
       "<table border=\"1\" class=\"dataframe\">\n",
       "  <thead>\n",
       "    <tr style=\"text-align: right;\">\n",
       "      <th></th>\n",
       "      <th>rental_rate</th>\n",
       "      <th>length</th>\n",
       "      <th>rating</th>\n",
       "      <th>times_rented_before_aug</th>\n",
       "      <th>genre</th>\n",
       "      <th>rented_in_aug</th>\n",
       "    </tr>\n",
       "  </thead>\n",
       "  <tbody>\n",
       "    <tr>\n",
       "      <th>10</th>\n",
       "      <td>4.99</td>\n",
       "      <td>50</td>\n",
       "      <td>R</td>\n",
       "      <td>0.0</td>\n",
       "      <td>Foreign</td>\n",
       "      <td>0</td>\n",
       "    </tr>\n",
       "    <tr>\n",
       "      <th>12</th>\n",
       "      <td>2.99</td>\n",
       "      <td>169</td>\n",
       "      <td>PG</td>\n",
       "      <td>0.0</td>\n",
       "      <td>Horror</td>\n",
       "      <td>0</td>\n",
       "    </tr>\n",
       "    <tr>\n",
       "      <th>31</th>\n",
       "      <td>2.99</td>\n",
       "      <td>132</td>\n",
       "      <td>PG</td>\n",
       "      <td>0.0</td>\n",
       "      <td>Action</td>\n",
       "      <td>0</td>\n",
       "    </tr>\n",
       "    <tr>\n",
       "      <th>42</th>\n",
       "      <td>0.99</td>\n",
       "      <td>159</td>\n",
       "      <td>NC-17</td>\n",
       "      <td>0.0</td>\n",
       "      <td>Comedy</td>\n",
       "      <td>0</td>\n",
       "    </tr>\n",
       "    <tr>\n",
       "      <th>63</th>\n",
       "      <td>2.99</td>\n",
       "      <td>153</td>\n",
       "      <td>PG-13</td>\n",
       "      <td>0.0</td>\n",
       "      <td>Drama</td>\n",
       "      <td>0</td>\n",
       "    </tr>\n",
       "    <tr>\n",
       "      <th>74</th>\n",
       "      <td>0.99</td>\n",
       "      <td>67</td>\n",
       "      <td>PG-13</td>\n",
       "      <td>0.0</td>\n",
       "      <td>New</td>\n",
       "      <td>0</td>\n",
       "    </tr>\n",
       "  </tbody>\n",
       "</table>\n",
       "</div>"
      ],
      "text/plain": [
       "    rental_rate  length rating  times_rented_before_aug    genre  \\\n",
       "10         4.99      50      R                      0.0  Foreign   \n",
       "12         2.99     169     PG                      0.0   Horror   \n",
       "31         2.99     132     PG                      0.0   Action   \n",
       "42         0.99     159  NC-17                      0.0   Comedy   \n",
       "63         2.99     153  PG-13                      0.0    Drama   \n",
       "74         0.99      67  PG-13                      0.0      New   \n",
       "\n",
       "    rented_in_aug  \n",
       "10              0  \n",
       "12              0  \n",
       "31              0  \n",
       "42              0  \n",
       "63              0  \n",
       "74              0  "
      ]
     },
     "metadata": {},
     "output_type": "display_data"
    },
    {
     "data": {
      "text/html": [
       "<div>\n",
       "<style scoped>\n",
       "    .dataframe tbody tr th:only-of-type {\n",
       "        vertical-align: middle;\n",
       "    }\n",
       "\n",
       "    .dataframe tbody tr th {\n",
       "        vertical-align: top;\n",
       "    }\n",
       "\n",
       "    .dataframe thead th {\n",
       "        text-align: right;\n",
       "    }\n",
       "</style>\n",
       "<table border=\"1\" class=\"dataframe\">\n",
       "  <thead>\n",
       "    <tr style=\"text-align: right;\">\n",
       "      <th></th>\n",
       "      <th>rental_rate</th>\n",
       "      <th>length</th>\n",
       "      <th>rating</th>\n",
       "      <th>times_rented_before_aug</th>\n",
       "      <th>genre</th>\n",
       "      <th>rented_in_aug</th>\n",
       "    </tr>\n",
       "  </thead>\n",
       "  <tbody>\n",
       "    <tr>\n",
       "      <th>2</th>\n",
       "      <td>2.99</td>\n",
       "      <td>115</td>\n",
       "      <td>PG-13</td>\n",
       "      <td>2.0</td>\n",
       "      <td>Games</td>\n",
       "      <td>0</td>\n",
       "    </tr>\n",
       "    <tr>\n",
       "      <th>10</th>\n",
       "      <td>4.99</td>\n",
       "      <td>50</td>\n",
       "      <td>R</td>\n",
       "      <td>0.0</td>\n",
       "      <td>Foreign</td>\n",
       "      <td>0</td>\n",
       "    </tr>\n",
       "    <tr>\n",
       "      <th>12</th>\n",
       "      <td>2.99</td>\n",
       "      <td>169</td>\n",
       "      <td>PG</td>\n",
       "      <td>0.0</td>\n",
       "      <td>Horror</td>\n",
       "      <td>0</td>\n",
       "    </tr>\n",
       "    <tr>\n",
       "      <th>31</th>\n",
       "      <td>2.99</td>\n",
       "      <td>132</td>\n",
       "      <td>PG</td>\n",
       "      <td>0.0</td>\n",
       "      <td>Action</td>\n",
       "      <td>0</td>\n",
       "    </tr>\n",
       "    <tr>\n",
       "      <th>42</th>\n",
       "      <td>0.99</td>\n",
       "      <td>159</td>\n",
       "      <td>NC-17</td>\n",
       "      <td>0.0</td>\n",
       "      <td>Comedy</td>\n",
       "      <td>0</td>\n",
       "    </tr>\n",
       "    <tr>\n",
       "      <th>44</th>\n",
       "      <td>2.99</td>\n",
       "      <td>72</td>\n",
       "      <td>R</td>\n",
       "      <td>2.0</td>\n",
       "      <td>Documentary</td>\n",
       "      <td>0</td>\n",
       "    </tr>\n",
       "    <tr>\n",
       "      <th>46</th>\n",
       "      <td>2.99</td>\n",
       "      <td>180</td>\n",
       "      <td>G</td>\n",
       "      <td>2.0</td>\n",
       "      <td>Sports</td>\n",
       "      <td>0</td>\n",
       "    </tr>\n",
       "    <tr>\n",
       "      <th>50</th>\n",
       "      <td>0.99</td>\n",
       "      <td>112</td>\n",
       "      <td>G</td>\n",
       "      <td>3.0</td>\n",
       "      <td>Horror</td>\n",
       "      <td>0</td>\n",
       "    </tr>\n",
       "    <tr>\n",
       "      <th>63</th>\n",
       "      <td>2.99</td>\n",
       "      <td>153</td>\n",
       "      <td>PG-13</td>\n",
       "      <td>0.0</td>\n",
       "      <td>Drama</td>\n",
       "      <td>0</td>\n",
       "    </tr>\n",
       "    <tr>\n",
       "      <th>74</th>\n",
       "      <td>0.99</td>\n",
       "      <td>67</td>\n",
       "      <td>PG-13</td>\n",
       "      <td>0.0</td>\n",
       "      <td>New</td>\n",
       "      <td>0</td>\n",
       "    </tr>\n",
       "    <tr>\n",
       "      <th>97</th>\n",
       "      <td>0.99</td>\n",
       "      <td>69</td>\n",
       "      <td>G</td>\n",
       "      <td>4.0</td>\n",
       "      <td>Classics</td>\n",
       "      <td>0</td>\n",
       "    </tr>\n",
       "    <tr>\n",
       "      <th>135</th>\n",
       "      <td>2.99</td>\n",
       "      <td>122</td>\n",
       "      <td>G</td>\n",
       "      <td>4.0</td>\n",
       "      <td>Classics</td>\n",
       "      <td>0</td>\n",
       "    </tr>\n",
       "    <tr>\n",
       "      <th>140</th>\n",
       "      <td>4.99</td>\n",
       "      <td>179</td>\n",
       "      <td>G</td>\n",
       "      <td>6.0</td>\n",
       "      <td>Action</td>\n",
       "      <td>0</td>\n",
       "    </tr>\n",
       "    <tr>\n",
       "      <th>186</th>\n",
       "      <td>0.99</td>\n",
       "      <td>183</td>\n",
       "      <td>G</td>\n",
       "      <td>4.0</td>\n",
       "      <td>Documentary</td>\n",
       "      <td>0</td>\n",
       "    </tr>\n",
       "  </tbody>\n",
       "</table>\n",
       "</div>"
      ],
      "text/plain": [
       "     rental_rate  length rating  times_rented_before_aug        genre  \\\n",
       "2           2.99     115  PG-13                      2.0        Games   \n",
       "10          4.99      50      R                      0.0      Foreign   \n",
       "12          2.99     169     PG                      0.0       Horror   \n",
       "31          2.99     132     PG                      0.0       Action   \n",
       "42          0.99     159  NC-17                      0.0       Comedy   \n",
       "44          2.99      72      R                      2.0  Documentary   \n",
       "46          2.99     180      G                      2.0       Sports   \n",
       "50          0.99     112      G                      3.0       Horror   \n",
       "63          2.99     153  PG-13                      0.0        Drama   \n",
       "74          0.99      67  PG-13                      0.0          New   \n",
       "97          0.99      69      G                      4.0     Classics   \n",
       "135         2.99     122      G                      4.0     Classics   \n",
       "140         4.99     179      G                      6.0       Action   \n",
       "186         0.99     183      G                      4.0  Documentary   \n",
       "\n",
       "     rented_in_aug  \n",
       "2                0  \n",
       "10               0  \n",
       "12               0  \n",
       "31               0  \n",
       "42               0  \n",
       "44               0  \n",
       "46               0  \n",
       "50               0  \n",
       "63               0  \n",
       "74               0  \n",
       "97               0  \n",
       "135              0  \n",
       "140              0  \n",
       "186              0  "
      ]
     },
     "metadata": {},
     "output_type": "display_data"
    }
   ],
   "source": [
    "# Movies not rented (predicted) vs. movies really not rented (test set)\n",
    "\n",
    "# Index reset\n",
    "y_test = y_test.reset_index(drop=True)\n",
    "X_test = X_test.reset_index(drop=True)\n",
    "\n",
    "real = pd.concat([X_test, y_test], axis = 1)\n",
    "pred = pd.DataFrame(pred, columns=['rented_in_aug'])\n",
    "test = pd.concat([X_test, pred], axis = 1)\n",
    "\n",
    "\n",
    "display(real[real['rented_in_aug'] == 0])\n",
    "display(test[test['rented_in_aug'] == 0])\n",
    "\n",
    "# All movies really not rented in aug (row IDs: 10, 12, 31, 42, 63, 74) were correctly predicted to not be rented in Aug by the model,\n",
    "# alongside with other 8 movies that in fact were rented. Well, all models are wrong, some are useful :)"
   ]
  }
 ],
 "metadata": {
  "kernelspec": {
   "display_name": "Python 3",
   "language": "python",
   "name": "python3"
  },
  "language_info": {
   "codemirror_mode": {
    "name": "ipython",
    "version": 3
   },
   "file_extension": ".py",
   "mimetype": "text/x-python",
   "name": "python",
   "nbconvert_exporter": "python",
   "pygments_lexer": "ipython3",
   "version": "3.8.8"
  }
 },
 "nbformat": 4,
 "nbformat_minor": 5
}
